{
 "cells": [
  {
   "cell_type": "markdown",
   "metadata": {},
   "source": [
    "# Initialize the model\n",
    "import gurobipy as gp\n",
    "from gurobipy import GRB"
   ]
  },
  {
   "cell_type": "code",
   "execution_count": 39,
   "metadata": {},
   "outputs": [],
   "source": [
    "# Dictionary to store time for each job\n",
    "job_times = {\n",
    "    1: 4,\n",
    "    2: 2,\n",
    "    3: 4,\n",
    "    4: 6,\n",
    "    5: 7,\n",
    "    6: 5,\n",
    "    7: 1,\n",
    "    8: 4,\n",
    "    9: 3,\n",
    "}\n"
   ]
  },
  {
   "cell_type": "code",
   "execution_count": 40,
   "metadata": {},
   "outputs": [
    {
     "name": "stdout",
     "output_type": "stream",
     "text": [
      "Precedence Matrix:\n",
      "[[0 0 0 0 0 0 0 0 0]\n",
      " [0 0 0 0 0 0 0 0 0]\n",
      " [1 0 0 0 0 0 0 0 0]\n",
      " [1 1 0 0 0 0 0 0 0]\n",
      " [0 0 1 1 0 0 0 0 0]\n",
      " [0 0 0 1 0 0 0 0 0]\n",
      " [0 0 0 0 1 0 0 0 0]\n",
      " [0 0 0 0 0 1 0 0 0]\n",
      " [0 0 0 0 0 0 1 1 0]]\n"
     ]
    }
   ],
   "source": [
    "import numpy as np\n",
    "import gurobipy as gp\n",
    "from gurobipy import GRB\n",
    "\n",
    "# Define the precedence dictionary based on your table (activity -> list of immediate predecessors)\n",
    "precedence_dict = {\n",
    "    1: [],\n",
    "    2: [],\n",
    "    3: [1],\n",
    "    4: [1,2],\n",
    "    5: [3,4],\n",
    "    6: [4],\n",
    "    7: [5],\n",
    "    8: [6],\n",
    "    9: [7,8],\n",
    "}\n",
    "\n",
    "num_jobs = 9\n",
    "\n",
    "# Initialize an empty precedence matrix with zeros (16x16)\n",
    "precedence_matrix = np.zeros((num_jobs, num_jobs), dtype=int)\n",
    "\n",
    "# Fill the precedence matrix based on the precedence_dict\n",
    "for activity, predecessors in precedence_dict.items():\n",
    "    for predecessor in predecessors:\n",
    "        precedence_matrix[activity - 1][predecessor - 1] = 1 \n",
    "\n",
    "# Print the precedence matrix to verify\n",
    "print(\"Precedence Matrix:\")\n",
    "print(precedence_matrix)\n"
   ]
  },
  {
   "cell_type": "code",
   "execution_count": 41,
   "metadata": {},
   "outputs": [
    {
     "name": "stdout",
     "output_type": "stream",
     "text": [
      "Gurobi Optimizer version 11.0.1 build v11.0.1rc0 (mac64[arm] - Darwin 23.6.0 23G93)\n",
      "\n",
      "CPU model: Apple M2 Max\n",
      "Thread count: 12 physical cores, 12 logical processors, using up to 12 threads\n",
      "\n",
      "Optimize a model with 108 rows, 90 columns and 711 nonzeros\n",
      "Model fingerprint: 0x895af3ae\n",
      "Variable types: 0 continuous, 90 integer (90 binary)\n",
      "Coefficient statistics:\n",
      "  Matrix range     [1e+00, 2e+01]\n",
      "  Objective range  [1e+00, 1e+00]\n",
      "  Bounds range     [1e+00, 1e+00]\n",
      "  RHS range        [1e+00, 1e+00]\n",
      "Found heuristic solution: objective 4.0000000\n",
      "Presolve removed 26 rows and 10 columns\n",
      "Presolve time: 0.00s\n",
      "Presolved: 82 rows, 80 columns, 425 nonzeros\n",
      "Variable types: 0 continuous, 80 integer (80 binary)\n",
      "\n",
      "Root relaxation: objective 2.400000e+00, 50 iterations, 0.00 seconds (0.00 work units)\n",
      "\n",
      "    Nodes    |    Current Node    |     Objective Bounds      |     Work\n",
      " Expl Unexpl |  Obj  Depth IntInf | Incumbent    BestBd   Gap | It/Node Time\n",
      "\n",
      "     0     0    2.40000    0    3    4.00000    2.40000  40.0%     -    0s\n",
      "H    0     0                       3.0000000    2.40000  20.0%     -    0s\n",
      "     0     0    2.40000    0    3    3.00000    2.40000  20.0%     -    0s\n",
      "\n",
      "Explored 1 nodes (50 simplex iterations) in 0.01 seconds (0.00 work units)\n",
      "Thread count was 12 (of 12 available processors)\n",
      "\n",
      "Solution count 2: 3 4 \n",
      "\n",
      "Optimal solution found (tolerance 1.00e-04)\n",
      "Best objective 3.000000000000e+00, best bound 3.000000000000e+00, gap 0.0000%\n"
     ]
    }
   ],
   "source": [
    "# Dictionary to store results for each number of stations\n",
    "results = {}\n",
    "max_num_stations = 9\n",
    "\n",
    "    \n",
    "# Create a new Gurobi model\n",
    "model = gp.Model(\"assembly_line_balancing\")\n",
    "\n",
    "# Create a matrix of Gurobi binary variables X_{is} \n",
    "X = [[model.addVar(vtype=GRB.BINARY, name=\"X_{}_{}\".format(i+1, s+1)) \n",
    "        for s in range(max_num_stations)] \n",
    "        for i in range(num_jobs)]\n",
    "\n",
    "# Add y variables to indicate if a station is active\n",
    "Y = [model.addVar(vtype=GRB.BINARY, name=\"Y_{}\".format(s+1)) for s in range(max_num_stations)]\n",
    "\n",
    "model.setObjective(gp.quicksum(Y), GRB.MINIMIZE)\n",
    "\n",
    "# Occurance Constraint\n",
    "for i in range(num_jobs):\n",
    "    model.addConstr(\n",
    "        gp.quicksum(X[i][s] for s in range(max_num_stations)) == 1,\n",
    "        name=f\"assignment_job_{i+1}\"\n",
    "    )\n",
    "\n",
    "\n",
    "# Cycle Time Constraint\n",
    "for s in range(max_num_stations):\n",
    "    model.addConstr(\n",
    "        gp.quicksum(X[i][s] * job_times[i+1] for i in range(num_jobs)) <= 15 * Y[s],\n",
    "        name=f\"cycle_time_station_{s+1}\"\n",
    "    )\n",
    "\n",
    "# Add precedence constraints to the model\n",
    "for i in range(num_jobs):\n",
    "    for j in range(num_jobs):\n",
    "        if precedence_matrix[i][j] == 1:\n",
    "            for k in range(max_num_stations):\n",
    "                lhs = X[i][k]\n",
    "                rhs = gp.quicksum(X[j][z] for z in range(k+1))\n",
    "                model.addConstr(lhs <= rhs, name=f\"precedence_{i+1}_{j+1}_station_{k+1}\")\n",
    "\n",
    "# Update the model to integrate the new constraints\n",
    "model.update()\n",
    "\n",
    "# Optimize the model\n",
    "model.optimize()"
   ]
  },
  {
   "cell_type": "code",
   "execution_count": 42,
   "metadata": {},
   "outputs": [
    {
     "name": "stdout",
     "output_type": "stream",
     "text": [
      "Station 6 is used and contains activities: [1, 2, 3]\n",
      "Station 8 is used and contains activities: [4, 6, 8]\n",
      "Station 9 is used and contains activities: [5, 7, 9]\n"
     ]
    }
   ],
   "source": [
    "# Iterate through each station and print the activities assigned to it\n",
    "for s in range(max_num_stations):\n",
    "    if Y[s].X > 0.5:  # Check if the station is used\n",
    "        activities_in_station = [i+1 for i in range(num_jobs) if X[i][s].X > 0.5]\n",
    "        print(f\"Station {s+1} is used and contains activities: {activities_in_station}\")"
   ]
  },
  {
   "cell_type": "code",
   "execution_count": 43,
   "metadata": {},
   "outputs": [
    {
     "name": "stdout",
     "output_type": "stream",
     "text": [
      "Station 6 is used and contains activities: [1, 2, 3] with processing times: [4, 2, 4]\n",
      "Total processing time for station 6: 10\n",
      "Station 8 is used and contains activities: [4, 6, 8] with processing times: [6, 5, 4]\n",
      "Total processing time for station 8: 15\n",
      "Station 9 is used and contains activities: [5, 7, 9] with processing times: [7, 1, 3]\n",
      "Total processing time for station 9: 11\n"
     ]
    }
   ],
   "source": [
    "# Iterate through each station and print the activities assigned to it along with their processing times\n",
    "for s in range(max_num_stations):\n",
    "    if Y[s].X > 0.5:  # Check if the station is used\n",
    "        activities_in_station = [i+1 for i in range(num_jobs) if X[i][s].X > 0.5]\n",
    "        processing_times = [job_times[activity] for activity in activities_in_station]\n",
    "        total_processing_time = sum(processing_times)\n",
    "        print(f\"Station {s+1} is used and contains activities: {activities_in_station} with processing times: {processing_times}\")\n",
    "        print(f\"Total processing time for station {s+1}: {total_processing_time}\")"
   ]
  }
 ],
 "metadata": {
  "kernelspec": {
   "display_name": "Python 3",
   "language": "python",
   "name": "python3"
  },
  "language_info": {
   "codemirror_mode": {
    "name": "ipython",
    "version": 3
   },
   "file_extension": ".py",
   "mimetype": "text/x-python",
   "name": "python",
   "nbconvert_exporter": "python",
   "pygments_lexer": "ipython3",
   "version": "3.9.6"
  }
 },
 "nbformat": 4,
 "nbformat_minor": 2
}
