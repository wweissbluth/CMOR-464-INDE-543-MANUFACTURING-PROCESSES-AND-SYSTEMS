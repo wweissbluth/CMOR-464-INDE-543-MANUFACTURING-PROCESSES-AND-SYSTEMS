{
 "cells": [
  {
   "cell_type": "markdown",
   "metadata": {},
   "source": [
    "---\n",
    "\n",
    "# Question 1\n",
    "\n",
    "Solving for flow rate\n"
   ]
  },
  {
   "cell_type": "code",
   "execution_count": 85,
   "metadata": {},
   "outputs": [
    {
     "data": {
      "text/plain": [
       "array([1.13157895, 1.31578947, 0.26315789, 0.92105263])"
      ]
     },
     "execution_count": 85,
     "metadata": {},
     "output_type": "execute_result"
    }
   ],
   "source": [
    "import numpy as np\n",
    "\n",
    "# Define the coefficient matrix A and the constants vector b\n",
    "A = np.array([\n",
    "    [-1,    .1,     0,      0],\n",
    "    [1,     -1,     0,      0.2],\n",
    "    [0,     .2,     -1,     0],\n",
    "    [0,     .7,     0,      -1]\n",
    "])\n",
    "\n",
    "# Right-hand side constants vector (all zero in this case)\n",
    "b = np.array([-1, 0, 0, 0])\n",
    "\n",
    "# Solve the system using np.linalg.solve if it’s square and has a unique solution\n",
    "# If it does not have a unique solution, we can use np.linalg.lstsq to get a least-squares solution\n",
    "try:\n",
    "    lam = np.linalg.solve(A, b)\n",
    "except np.linalg.LinAlgError:\n",
    "    # If matrix A is singular, use least-squares solution\n",
    "    lam, residuals, rank, s = np.linalg.lstsq(A, b, rcond=None)\n",
    "\n",
    "# The flow rates are the following \n",
    "lam\n"
   ]
  },
  {
   "cell_type": "markdown",
   "metadata": {},
   "source": [
    "\n",
    "The solution for the outflow values is:\n",
    "\n",
    "\\begin{align*}\n",
    "\\lambda_1 &= 1.13157895 \\\\\n",
    "\\lambda_2 &= 1.31578947 \\\\\n",
    "\\lambda_3 &= 0.26315789 \\\\\n",
    "\\lambda_4 &= 0.92105263 \\\\\n",
    "\\end{align*}\n",
    "\n",
    "---"
   ]
  },
  {
   "cell_type": "markdown",
   "metadata": {},
   "source": [
    "---\n",
    "\n",
    "Now let's get the utilization"
   ]
  },
  {
   "cell_type": "code",
   "execution_count": 86,
   "metadata": {},
   "outputs": [
    {
     "data": {
      "text/plain": [
       "array([0.90526316, 0.92105263, 0.78947368, 0.92105263])"
      ]
     },
     "execution_count": 86,
     "metadata": {},
     "output_type": "execute_result"
    }
   ],
   "source": [
    "# Define the vector te\n",
    "te = np.array([0.8, 0.7, 3, 1])\n",
    "\n",
    "# Calculate the vector u as the product of lam and te\n",
    "u = lam * te\n",
    "u"
   ]
  },
  {
   "cell_type": "markdown",
   "metadata": {},
   "source": [
    "\\begin{align*}\n",
    "u_1 &= 0.90526316 \\\\\n",
    "u_2 &= 0.92105263 \\\\\n",
    "u_3 &= 0.78947368 \\\\\n",
    "u_4 &= 0.92105263 \\\\\n",
    "\\end{align*}\n"
   ]
  },
  {
   "cell_type": "markdown",
   "metadata": {},
   "source": [
    "---\n",
    "\n",
    "Let's now find the SCV for arrivals"
   ]
  },
  {
   "cell_type": "code",
   "execution_count": 87,
   "metadata": {},
   "outputs": [],
   "source": [
    "from sympy import symbols, Eq, solve\n",
    "\n",
    "# Define symbols for the variables\n",
    "scv_a_1, scv_a_2, scv_a_3, scv_a_4 = symbols('scv_a_1, scv_a_2, scv_a_3, scv_a_4')"
   ]
  },
  {
   "cell_type": "markdown",
   "metadata": {},
   "source": [
    "$$C_a^2(1)$$"
   ]
  },
  {
   "cell_type": "code",
   "execution_count": 88,
   "metadata": {},
   "outputs": [],
   "source": [
    "p21=0.1\n",
    "scv_e_2=0.75\n",
    "\n",
    "eq1 = Eq(scv_a_1,1/lam[0]+(lam[1]*p21/lam[0])*(p21*((1-(u[1])**2)*scv_a_2+(u[1])**2*scv_e_2)+1-p21))"
   ]
  },
  {
   "cell_type": "markdown",
   "metadata": {},
   "source": [
    "$$ C_a^2(2)$$"
   ]
  },
  {
   "cell_type": "code",
   "execution_count": 89,
   "metadata": {},
   "outputs": [],
   "source": [
    "p42=0.2\n",
    "scv_e_4=0.5\n",
    "\n",
    "p12=1\n",
    "scv_e_1=1.5\n",
    "\n",
    "eq2 = Eq(scv_a_2,\n",
    "         lam[3]*p42/lam[1]*(p42*((1-(u[3])**2)*scv_a_4+(u[3])**2*scv_e_4)+1-p42)+\n",
    "            lam[0]*p12/lam[1]*(p12*((1-(u[0])**2)*scv_a_1+(u[0])**2*scv_e_1)+1-p12))"
   ]
  },
  {
   "cell_type": "markdown",
   "metadata": {},
   "source": [
    "$$ C_a^2(3)$$"
   ]
  },
  {
   "cell_type": "code",
   "execution_count": 90,
   "metadata": {},
   "outputs": [],
   "source": [
    "p23 = 0.2\n",
    "\n",
    "eq3 = Eq(scv_a_3, \n",
    "         lam[1]*p23/lam[2]*(p23*((1-(u[1])**2)*scv_a_2+(u[1])**2*scv_e_2)+1-p23))"
   ]
  },
  {
   "cell_type": "markdown",
   "metadata": {},
   "source": [
    "$$ C_a^2(4)$$"
   ]
  },
  {
   "cell_type": "code",
   "execution_count": 91,
   "metadata": {},
   "outputs": [],
   "source": [
    "p24 = 0.7\n",
    "scv_e_2 = 0.75\n",
    "eq4 = Eq(scv_a_4, \n",
    "         lam[1]*p24/lam[3]*(p24*((1-(u[1])**2)*scv_a_2+(u[1])**2*scv_e_2)+1-p24))"
   ]
  },
  {
   "cell_type": "code",
   "execution_count": 92,
   "metadata": {},
   "outputs": [
    {
     "name": "stdout",
     "output_type": "stream",
     "text": [
      "Solution: {scv_a_1: 0.998133040094418, scv_a_2: 1.33974178577721, scv_a_3: 0.967888289623990, scv_a_4: 0.887609013683965}\n"
     ]
    }
   ],
   "source": [
    "# Solve the system of equations\n",
    "solution = solve((eq1, eq2, eq3, eq4), (scv_a_1, scv_a_2, scv_a_3, scv_a_4))\n",
    "\n",
    "print(\"Solution:\", solution)\n",
    "scv_a_1 = solution[scv_a_1]\n",
    "scv_a_2 = solution[scv_a_2]\n",
    "scv_a_3 = solution[scv_a_3]\n",
    "scv_a_4 = solution[scv_a_4]"
   ]
  },
  {
   "cell_type": "markdown",
   "metadata": {},
   "source": [
    "\\begin{align*}\n",
    "C_a^2(1) &= 0.998133040094418 \\\\\n",
    "C_a^2(2) &= 1.33974178577721 \\\\\n",
    "C_a^2(3) &= 0.967888289623990 \\\\\n",
    "C_a^2(4) &= 0.887609013683965 \\\\\n",
    "\\end{align*}\n"
   ]
  },
  {
   "cell_type": "markdown",
   "metadata": {},
   "source": [
    "---\n",
    "\n",
    "Let's now work on the WIP of each station"
   ]
  },
  {
   "cell_type": "markdown",
   "metadata": {},
   "source": [
    "Now let's solve for Cycle Time\n",
    "\n",
    "$$CT_s(k) = \\frac{C_a^2(k) + C_e^2(k)}{2} \\cdot \\frac{u_k}{1 - u_k} \\cdot t_e(k) + t_e(k)$$\n"
   ]
  },
  {
   "cell_type": "code",
   "execution_count": 93,
   "metadata": {},
   "outputs": [
    {
     "data": {
      "text/latex": [
       "$\\displaystyle 10.3484196199164$"
      ],
      "text/plain": [
       "10.3484196199164"
      ]
     },
     "execution_count": 93,
     "metadata": {},
     "output_type": "execute_result"
    }
   ],
   "source": [
    "CT_1=(scv_a_1+scv_e_1)/2 * u[0]/(1-u[0]) * te[0]+te[0]\n",
    "CT_1"
   ]
  },
  {
   "cell_type": "code",
   "execution_count": 94,
   "metadata": {},
   "outputs": [
    {
     "data": {
      "text/latex": [
       "$\\displaystyle 9.23311229192359$"
      ],
      "text/plain": [
       "9.23311229192359"
      ]
     },
     "execution_count": 94,
     "metadata": {},
     "output_type": "execute_result"
    }
   ],
   "source": [
    "CT_2=(scv_a_2+scv_e_2)/2 * u[1]/(1-u[1]) * te[1]+te[1]\n",
    "CT_2"
   ]
  },
  {
   "cell_type": "code",
   "execution_count": 95,
   "metadata": {},
   "outputs": [
    {
     "data": {
      "text/latex": [
       "$\\displaystyle 12.6631216291349$"
      ],
      "text/plain": [
       "12.6631216291349"
      ]
     },
     "execution_count": 95,
     "metadata": {},
     "output_type": "execute_result"
    }
   ],
   "source": [
    "CT_3=(scv_a_3+scv_e_2)/2 * u[2]/(1-u[2]) * te[2]+te[2]\n",
    "CT_3"
   ]
  },
  {
   "cell_type": "code",
   "execution_count": 96,
   "metadata": {},
   "outputs": [
    {
     "data": {
      "text/latex": [
       "$\\displaystyle 9.09438591315646$"
      ],
      "text/plain": [
       "9.09438591315646"
      ]
     },
     "execution_count": 96,
     "metadata": {},
     "output_type": "execute_result"
    }
   ],
   "source": [
    "CT_4=(scv_a_4+scv_e_4)/2 * u[3]/(1-u[3]) * te[3]+te[3]\n",
    "CT_4"
   ]
  },
  {
   "cell_type": "code",
   "execution_count": 97,
   "metadata": {},
   "outputs": [
    {
     "name": "stdout",
     "output_type": "stream",
     "text": [
      "CT_1: 10.3484196199164 CT_2: 9.23311229192359 CT_3: 12.6631216291349 CT_4: 9.09438591315646\n"
     ]
    }
   ],
   "source": [
    "print(\"CT_1:\", CT_1, \"CT_2:\", CT_2, \"CT_3:\", CT_3, \"CT_4:\", CT_4)"
   ]
  },
  {
   "cell_type": "markdown",
   "metadata": {},
   "source": [
    "---\n",
    "\n",
    "Now let's get the WIP of each workstation\n",
    "\n",
    "$$\\text{WIP}_s(k) = \\lambda_k \\cdot CT_s(k)$$\n"
   ]
  },
  {
   "cell_type": "code",
   "execution_count": 98,
   "metadata": {},
   "outputs": [
    {
     "data": {
      "text/latex": [
       "$\\displaystyle 11.7100537804318$"
      ],
      "text/plain": [
       "11.7100537804318"
      ]
     },
     "execution_count": 98,
     "metadata": {},
     "output_type": "execute_result"
    }
   ],
   "source": [
    "WIP_1=CT_1*lam[0]\n",
    "WIP_1"
   ]
  },
  {
   "cell_type": "code",
   "execution_count": 99,
   "metadata": {},
   "outputs": [
    {
     "data": {
      "text/latex": [
       "$\\displaystyle 12.1488319630573$"
      ],
      "text/plain": [
       "12.1488319630573"
      ]
     },
     "execution_count": 99,
     "metadata": {},
     "output_type": "execute_result"
    }
   ],
   "source": [
    "WIP_2=CT_2*lam[1]\n",
    "WIP_2"
   ]
  },
  {
   "cell_type": "code",
   "execution_count": 100,
   "metadata": {},
   "outputs": [
    {
     "data": {
      "text/latex": [
       "$\\displaystyle 3.33240042871972$"
      ],
      "text/plain": [
       "3.33240042871972"
      ]
     },
     "execution_count": 100,
     "metadata": {},
     "output_type": "execute_result"
    }
   ],
   "source": [
    "WIP_3=CT_3*lam[2]\n",
    "WIP_3"
   ]
  },
  {
   "cell_type": "code",
   "execution_count": 101,
   "metadata": {},
   "outputs": [
    {
     "data": {
      "text/latex": [
       "$\\displaystyle 8.37640807790726$"
      ],
      "text/plain": [
       "8.37640807790726"
      ]
     },
     "execution_count": 101,
     "metadata": {},
     "output_type": "execute_result"
    }
   ],
   "source": [
    "WIP_4=CT_4*lam[3]\n",
    "WIP_4"
   ]
  },
  {
   "cell_type": "code",
   "execution_count": 102,
   "metadata": {},
   "outputs": [
    {
     "name": "stdout",
     "output_type": "stream",
     "text": [
      "WIP_1: 11.7100537804318 WIP_2: 12.1488319630573 WIP_3: 3.33240042871972 WIP_4: 8.37640807790726\n"
     ]
    }
   ],
   "source": [
    "print(\"WIP_1:\", WIP_1, \"WIP_2:\", WIP_2, \"WIP_3:\", WIP_3, \"WIP_4:\", WIP_4)"
   ]
  },
  {
   "cell_type": "code",
   "execution_count": 103,
   "metadata": {},
   "outputs": [
    {
     "data": {
      "text/latex": [
       "$\\displaystyle 35.5676942501161$"
      ],
      "text/plain": [
       "35.5676942501161"
      ]
     },
     "execution_count": 103,
     "metadata": {},
     "output_type": "execute_result"
    }
   ],
   "source": [
    "WIP = WIP_1 + WIP_2 + WIP_3 + WIP_4\n",
    "WIP"
   ]
  },
  {
   "cell_type": "markdown",
   "metadata": {},
   "source": [
    "---\n",
    "\n",
    "Cycle Time of a Job in the System\n",
    "\n",
    "$$CT_s=\\frac{WIP_s}{TH_s}$$"
   ]
  },
  {
   "cell_type": "code",
   "execution_count": 105,
   "metadata": {},
   "outputs": [
    {
     "data": {
      "text/latex": [
       "$\\displaystyle 35.5676942501161$"
      ],
      "text/plain": [
       "35.5676942501161"
      ]
     },
     "execution_count": 105,
     "metadata": {},
     "output_type": "execute_result"
    }
   ],
   "source": [
    "TH=1\n",
    "CT=WIP/1\n",
    "CT"
   ]
  },
  {
   "cell_type": "markdown",
   "metadata": {},
   "source": [
    "---\n",
    "Profit of the System"
   ]
  },
  {
   "cell_type": "code",
   "execution_count": 109,
   "metadata": {},
   "outputs": [
    {
     "data": {
      "text/plain": [
       "0.26315789473684215"
      ]
     },
     "execution_count": 109,
     "metadata": {},
     "output_type": "execute_result"
    }
   ],
   "source": [
    "lam_3_exit=lam[2]\n",
    "lam_3_exit"
   ]
  },
  {
   "cell_type": "code",
   "execution_count": 110,
   "metadata": {},
   "outputs": [
    {
     "data": {
      "text/plain": [
       "0.736842105263158"
      ]
     },
     "execution_count": 110,
     "metadata": {},
     "output_type": "execute_result"
    }
   ],
   "source": [
    "lam_4_exit=lam[3]*.8\n",
    "lam_4_exit"
   ]
  },
  {
   "cell_type": "code",
   "execution_count": 111,
   "metadata": {},
   "outputs": [
    {
     "data": {
      "text/plain": [
       "1.0"
      ]
     },
     "execution_count": 111,
     "metadata": {},
     "output_type": "execute_result"
    }
   ],
   "source": [
    "lam_exit=lam_3_exit+lam_4_exit\n",
    "lam_exit"
   ]
  }
 ],
 "metadata": {
  "kernelspec": {
   "display_name": "Python 3",
   "language": "python",
   "name": "python3"
  },
  "language_info": {
   "codemirror_mode": {
    "name": "ipython",
    "version": 3
   },
   "file_extension": ".py",
   "mimetype": "text/x-python",
   "name": "python",
   "nbconvert_exporter": "python",
   "pygments_lexer": "ipython3",
   "version": "3.9.6"
  }
 },
 "nbformat": 4,
 "nbformat_minor": 2
}
