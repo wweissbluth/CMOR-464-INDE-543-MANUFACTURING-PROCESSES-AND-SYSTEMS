{
 "cells": [
  {
   "cell_type": "markdown",
   "metadata": {},
   "source": [
    "---\n",
    "# Question 2"
   ]
  },
  {
   "cell_type": "markdown",
   "metadata": {},
   "source": [
    "Notice in this question now we will play with multiple machines in the system"
   ]
  },
  {
   "cell_type": "code",
   "execution_count": 110,
   "metadata": {},
   "outputs": [
    {
     "data": {
      "text/plain": [
       "array([5.55555556, 5.55555556, 5.55555556, 5.        , 5.        ])"
      ]
     },
     "execution_count": 110,
     "metadata": {},
     "output_type": "execute_result"
    }
   ],
   "source": [
    "import numpy as np\n",
    "\n",
    "# Define the coefficient matrix A and the constants vector b\n",
    "A = np.array([\n",
    "    #A      B       C       D       E\n",
    "    [1,     0,      -1/10,  0,      0],\n",
    "    [-1,    1,      0,      0,      0],\n",
    "    [0,     -1,     1,      0,      0],\n",
    "    [0,     0,      -9/10,  1,      0],\n",
    "    [0,     0,      0,      -1,     1]\n",
    "])\n",
    "\n",
    "# Right-hand side constants vector (all zero in this case)\n",
    "b = np.array([5, 0, 0, 0, 0])\n",
    "\n",
    "# Solve the system using np.linalg.solve if it’s square and has a unique solution\n",
    "# If it does not have a unique solution, we can use np.linalg.lstsq to get a least-squares solution\n",
    "try:\n",
    "    lam = np.linalg.solve(A, b)\n",
    "except np.linalg.LinAlgError:\n",
    "    # If matrix A is singular, use least-squares solution\n",
    "    lam, residuals, rank, s = np.linalg.lstsq(A, b, rcond=None)\n",
    "\n",
    "# The flow rates are the following \n",
    "lam\n"
   ]
  },
  {
   "cell_type": "markdown",
   "metadata": {},
   "source": [
    "Let's articulate this as the individual workstation flow rates"
   ]
  },
  {
   "cell_type": "code",
   "execution_count": 111,
   "metadata": {},
   "outputs": [
    {
     "data": {
      "text/plain": [
       "10.555555555555555"
      ]
     },
     "execution_count": 111,
     "metadata": {},
     "output_type": "execute_result"
    }
   ],
   "source": [
    "lam1=lam[1-1]+lam[5-1]\n",
    "lam1"
   ]
  },
  {
   "cell_type": "code",
   "execution_count": 112,
   "metadata": {},
   "outputs": [
    {
     "data": {
      "text/plain": [
       "10.555555555555555"
      ]
     },
     "execution_count": 112,
     "metadata": {},
     "output_type": "execute_result"
    }
   ],
   "source": [
    "lam2=lam[2-1]+lam[4-1]\n",
    "lam2"
   ]
  },
  {
   "cell_type": "code",
   "execution_count": 113,
   "metadata": {},
   "outputs": [
    {
     "data": {
      "text/plain": [
       "5.555555555555555"
      ]
     },
     "execution_count": 113,
     "metadata": {},
     "output_type": "execute_result"
    }
   ],
   "source": [
    "lam3=lam[3-1]\n",
    "lam3"
   ]
  },
  {
   "cell_type": "markdown",
   "metadata": {},
   "source": [
    "---\n",
    "\n",
    "Now let's get the utilization"
   ]
  },
  {
   "cell_type": "code",
   "execution_count": 114,
   "metadata": {},
   "outputs": [
    {
     "data": {
      "text/plain": [
       "array([0.44444444, 0.36111111, 0.72222222, 0.45      , 0.35      ])"
      ]
     },
     "execution_count": 114,
     "metadata": {},
     "output_type": "execute_result"
    }
   ],
   "source": [
    "import numpy as np\n",
    "# Define the vector te\n",
    "te = np.array([0.16, 0.13, .13, 0.18, 0.14])\n",
    "\n",
    "m = np.array([2,2,1,2,2])\n",
    "\n",
    "# Calculate the vector u as the product of lam and te\n",
    "u = lam * te/m\n",
    "u"
   ]
  },
  {
   "cell_type": "code",
   "execution_count": 115,
   "metadata": {},
   "outputs": [
    {
     "data": {
      "text/plain": [
       "0.7944444444444445"
      ]
     },
     "execution_count": 115,
     "metadata": {},
     "output_type": "execute_result"
    }
   ],
   "source": [
    "u1=u[1-1]+u[5-1]\n",
    "u1"
   ]
  },
  {
   "cell_type": "code",
   "execution_count": 116,
   "metadata": {},
   "outputs": [
    {
     "data": {
      "text/plain": [
       "0.8111111111111111"
      ]
     },
     "execution_count": 116,
     "metadata": {},
     "output_type": "execute_result"
    }
   ],
   "source": [
    "u2=u[2-1]+u[4-1]\n",
    "u2"
   ]
  },
  {
   "cell_type": "code",
   "execution_count": 117,
   "metadata": {},
   "outputs": [
    {
     "data": {
      "text/plain": [
       "0.7222222222222222"
      ]
     },
     "execution_count": 117,
     "metadata": {},
     "output_type": "execute_result"
    }
   ],
   "source": [
    "u3=u[3-1]\n",
    "u3"
   ]
  },
  {
   "cell_type": "code",
   "execution_count": 118,
   "metadata": {},
   "outputs": [
    {
     "data": {
      "text/plain": [
       "0.5263157894736842"
      ]
     },
     "execution_count": 118,
     "metadata": {},
     "output_type": "execute_result"
    }
   ],
   "source": [
    "p12=p23=lam[0]/(lam1)\n",
    "p12"
   ]
  },
  {
   "cell_type": "code",
   "execution_count": 119,
   "metadata": {},
   "outputs": [
    {
     "data": {
      "text/plain": [
       "0.5263157894736842"
      ]
     },
     "execution_count": 119,
     "metadata": {},
     "output_type": "execute_result"
    }
   ],
   "source": [
    "p23"
   ]
  },
  {
   "cell_type": "code",
   "execution_count": 120,
   "metadata": {},
   "outputs": [
    {
     "data": {
      "text/plain": [
       "0.4736842105263158"
      ]
     },
     "execution_count": 120,
     "metadata": {},
     "output_type": "execute_result"
    }
   ],
   "source": [
    "p21=p1exit=1-p12\n",
    "p21"
   ]
  },
  {
   "cell_type": "code",
   "execution_count": 121,
   "metadata": {},
   "outputs": [
    {
     "data": {
      "text/plain": [
       "0.15052631578947367"
      ]
     },
     "execution_count": 121,
     "metadata": {},
     "output_type": "execute_result"
    }
   ],
   "source": [
    "te1=p12*0.16+p1exit*0.14\n",
    "te1"
   ]
  },
  {
   "cell_type": "code",
   "execution_count": 122,
   "metadata": {},
   "outputs": [
    {
     "data": {
      "text/plain": [
       "0.1536842105263158"
      ]
     },
     "execution_count": 122,
     "metadata": {},
     "output_type": "execute_result"
    }
   ],
   "source": [
    "te2=p23*0.13+p21*0.18\n",
    "te2"
   ]
  },
  {
   "cell_type": "code",
   "execution_count": 123,
   "metadata": {},
   "outputs": [
    {
     "data": {
      "text/plain": [
       "0.13"
      ]
     },
     "execution_count": 123,
     "metadata": {},
     "output_type": "execute_result"
    }
   ],
   "source": [
    "te3=0.13\n",
    "te3"
   ]
  },
  {
   "cell_type": "markdown",
   "metadata": {},
   "source": [
    "---\n",
    "\n",
    "Now let's find the CSV of the arrivals"
   ]
  },
  {
   "cell_type": "code",
   "execution_count": 124,
   "metadata": {},
   "outputs": [],
   "source": [
    "from sympy import symbols, Eq, solve\n",
    "\n",
    "# Define symbols for the variables\n",
    "scv_a_1, scv_a_2, scv_a_3 = symbols('scv_a_1, scv_a_2, scv_a_3')"
   ]
  },
  {
   "cell_type": "markdown",
   "metadata": {},
   "source": [
    "$$C_a^2(1)$$"
   ]
  },
  {
   "cell_type": "code",
   "execution_count": 125,
   "metadata": {},
   "outputs": [],
   "source": [
    "p21=p21\n",
    "scv_e_2=2.087\n",
    "\n",
    "p31=0.1\n",
    "scv_e_3=1\n",
    "\n",
    "m2=m[2-1]\n",
    "m3=m[3-1]\n",
    "\n",
    "eq1 = Eq(scv_a_1, 5/lam1\n",
    "         +lam2*p21/lam1*(p21*(1+(1-u2**2)*(scv_a_2-1)+(u2**2)*(scv_e_2-1)/(m2**(1/2)))+1-p21)\n",
    "         +lam3*p31/lam1*(p31*(1+(1-u3**2)*(scv_a_3-1)+(u3**2)*(scv_e_3-1)/(m3**(1/2)))+1-p31)\n",
    "         )"
   ]
  },
  {
   "cell_type": "markdown",
   "metadata": {},
   "source": [
    "$$ C_a^2(2)$$"
   ]
  },
  {
   "cell_type": "code",
   "execution_count": 126,
   "metadata": {},
   "outputs": [],
   "source": [
    "p12=p12\n",
    "scv_e_2=2.087\n",
    "\n",
    "p32=0.9\n",
    "scv_e_3=1\n",
    "\n",
    "m2=m[2-1]\n",
    "m3=m[3-1]\n",
    "\n",
    "eq2 = Eq(scv_a_2,\n",
    "         lam1*p12/lam2*(p12*(1+(1-u2**2)*(scv_a_2-1)+(u2**2)*(scv_e_2-1)/(m2**(1/2)))+1-p12)\n",
    "         +lam3*p32/lam2*(p32*(1+(1-u3**2)*(scv_a_3-1)+(u3**2)*(scv_e_3-1)/(m3**(1/2)))+1-p32)\n",
    ")"
   ]
  },
  {
   "cell_type": "markdown",
   "metadata": {},
   "source": [
    "$$ C_a^2(3)$$"
   ]
  },
  {
   "cell_type": "code",
   "execution_count": 127,
   "metadata": {},
   "outputs": [],
   "source": [
    "p23=p23\n",
    "scv_e_3=1\n",
    "\n",
    "eq3 = Eq(scv_a_3,\n",
    "       lam2*p23/lam3*(p23*((1-u3**2)*(scv_a_3)+(u3**2)*(scv_e_3)))+1-p23)"
   ]
  },
  {
   "cell_type": "code",
   "execution_count": 128,
   "metadata": {},
   "outputs": [
    {
     "name": "stdout",
     "output_type": "stream",
     "text": [
      "Solution: {scv_a_1: 1.12534047727114, scv_a_2: 1.15474132996438, scv_a_3: 1.00000000000000}\n"
     ]
    }
   ],
   "source": [
    "# Solve the system of equations\n",
    "solution = solve((eq1, eq2, eq3), (scv_a_1, scv_a_2, scv_a_3))\n",
    "\n",
    "print(\"Solution:\", solution)\n",
    "scv_a_1 = solution[scv_a_1]\n",
    "scv_a_2 = solution[scv_a_2]\n",
    "scv_a_3 = solution[scv_a_3]"
   ]
  },
  {
   "cell_type": "markdown",
   "metadata": {},
   "source": [
    "---\n",
    "\n",
    "WIP, CT, and TH of System"
   ]
  },
  {
   "cell_type": "code",
   "execution_count": null,
   "metadata": {},
   "outputs": [
    {
     "data": {
      "text/latex": [
       "$\\displaystyle 0.317854833554569$"
      ],
      "text/plain": [
       "0.317854833554569"
      ]
     },
     "execution_count": 130,
     "metadata": {},
     "output_type": "execute_result"
    }
   ],
   "source": [
    "scv_e_1=0.1505213\n",
    "m1=2\n",
    "CT1=(scv_a_1+scv_e_1)/2*(u1**((2*(m1+1))**(1/2)-1))/((1-u1)*m1)*te1+te1\n",
    "CT1"
   ]
  },
  {
   "cell_type": "code",
   "execution_count": 133,
   "metadata": {},
   "outputs": [
    {
     "data": {
      "text/latex": [
       "$\\displaystyle 0.640488174671278$"
      ],
      "text/plain": [
       "0.640488174671278"
      ]
     },
     "execution_count": 133,
     "metadata": {},
     "output_type": "execute_result"
    }
   ],
   "source": [
    "CT2=(scv_a_2+scv_e_2)/2*(u2**((2*(m2+1))**(1/2)-1))/((1-u2)*m2)*te2+te2\n",
    "CT2"
   ]
  },
  {
   "cell_type": "code",
   "execution_count": 134,
   "metadata": {},
   "outputs": [
    {
     "data": {
      "text/latex": [
       "$\\displaystyle 0.468$"
      ],
      "text/plain": [
       "0.468000000000000"
      ]
     },
     "execution_count": 134,
     "metadata": {},
     "output_type": "execute_result"
    }
   ],
   "source": [
    "CT3=(scv_a_3+scv_e_3)/2*(u3**((2*(m3+1))**(1/2)-1))/((1-u3)*m3)*te3+te3\n",
    "CT3"
   ]
  },
  {
   "cell_type": "code",
   "execution_count": 136,
   "metadata": {},
   "outputs": [
    {
     "data": {
      "text/latex": [
       "$\\displaystyle 3.35513435418712$"
      ],
      "text/plain": [
       "3.35513435418712"
      ]
     },
     "execution_count": 136,
     "metadata": {},
     "output_type": "execute_result"
    }
   ],
   "source": [
    "WIP1=lam1*CT1\n",
    "WIP1"
   ]
  },
  {
   "cell_type": "code",
   "execution_count": 137,
   "metadata": {},
   "outputs": [
    {
     "data": {
      "text/latex": [
       "$\\displaystyle 6.76070851041904$"
      ],
      "text/plain": [
       "6.76070851041904"
      ]
     },
     "execution_count": 137,
     "metadata": {},
     "output_type": "execute_result"
    }
   ],
   "source": [
    "WIP2=lam2*CT2\n",
    "WIP2"
   ]
  },
  {
   "cell_type": "code",
   "execution_count": 138,
   "metadata": {},
   "outputs": [
    {
     "data": {
      "text/latex": [
       "$\\displaystyle 2.6$"
      ],
      "text/plain": [
       "2.60000000000000"
      ]
     },
     "execution_count": 138,
     "metadata": {},
     "output_type": "execute_result"
    }
   ],
   "source": [
    "WIP3=lam3*CT3\n",
    "WIP3"
   ]
  },
  {
   "cell_type": "code",
   "execution_count": 140,
   "metadata": {},
   "outputs": [
    {
     "data": {
      "text/latex": [
       "$\\displaystyle 12.7158428646062$"
      ],
      "text/plain": [
       "12.7158428646062"
      ]
     },
     "execution_count": 140,
     "metadata": {},
     "output_type": "execute_result"
    }
   ],
   "source": [
    "WIP=WIP1+WIP2+WIP3\n",
    "WIP"
   ]
  },
  {
   "cell_type": "code",
   "execution_count": 141,
   "metadata": {},
   "outputs": [
    {
     "data": {
      "text/latex": [
       "$\\displaystyle 2.54316857292123$"
      ],
      "text/plain": [
       "2.54316857292123"
      ]
     },
     "execution_count": 141,
     "metadata": {},
     "output_type": "execute_result"
    }
   ],
   "source": [
    "CT=WIP/5\n",
    "CT"
   ]
  },
  {
   "cell_type": "code",
   "execution_count": null,
   "metadata": {},
   "outputs": [],
   "source": []
  }
 ],
 "metadata": {
  "kernelspec": {
   "display_name": "Python 3",
   "language": "python",
   "name": "python3"
  },
  "language_info": {
   "codemirror_mode": {
    "name": "ipython",
    "version": 3
   },
   "file_extension": ".py",
   "mimetype": "text/x-python",
   "name": "python",
   "nbconvert_exporter": "python",
   "pygments_lexer": "ipython3",
   "version": "3.9.6"
  }
 },
 "nbformat": 4,
 "nbformat_minor": 2
}
