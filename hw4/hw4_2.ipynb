{
 "cells": [
  {
   "cell_type": "markdown",
   "metadata": {},
   "source": [
    "---\n",
    "# Question 2"
   ]
  },
  {
   "cell_type": "code",
   "execution_count": 886,
   "metadata": {},
   "outputs": [
    {
     "name": "stdout",
     "output_type": "stream",
     "text": [
      "  Step  Station    te  C_e^2\n",
      "0    a        1  0.16    0.5\n",
      "1    b        2  0.13    1.2\n",
      "2    c        3  0.13    0.8\n",
      "3    d        2  0.18    1.1\n",
      "4    e        1  0.14    0.6\n"
     ]
    }
   ],
   "source": [
    "import pandas as pd\n",
    "\n",
    "# Initializing the data as a pandas DataFrame\n",
    "manu_data = {\n",
    "    'Step': ['a', 'b', 'c', 'd', 'e'],\n",
    "    'Station': [1, 2, 3, 2, 1],\n",
    "    'te': [0.16, 0.13, 0.13, 0.18, 0.14],\n",
    "    'C_e^2': [0.5, 1.2, 0.8, 1.1, 0.6]\n",
    "}\n",
    "\n",
    "process_metrics = pd.DataFrame(manu_data)\n",
    "\n",
    "# Display the DataFrame\n",
    "print(process_metrics)\n"
   ]
  },
  {
   "cell_type": "code",
   "execution_count": 887,
   "metadata": {},
   "outputs": [
    {
     "name": "stdout",
     "output_type": "stream",
     "text": [
      "  Step  Station    te  C_e^2  E[S]^2   var[S]   E[S^2]\n",
      "0    a        1  0.16    0.5  0.0256  0.01280  0.03840\n",
      "1    b        2  0.13    1.2  0.0169  0.02028  0.03718\n",
      "2    c        3  0.13    0.8  0.0169  0.01352  0.03042\n",
      "3    d        2  0.18    1.1  0.0324  0.03564  0.06804\n",
      "4    e        1  0.14    0.6  0.0196  0.01176  0.03136\n"
     ]
    }
   ],
   "source": [
    "process_metrics['E[S]^2'] = process_metrics['te'] ** 2\n",
    "process_metrics['var[S]'] = process_metrics['C_e^2'] * process_metrics['te'] ** 2\n",
    "process_metrics['E[S^2]'] = process_metrics['te'] ** 2 + process_metrics['var[S]']\n",
    "# Display the DataFrame\n",
    "print(process_metrics)"
   ]
  },
  {
   "cell_type": "markdown",
   "metadata": {},
   "source": [
    "Notice in this question now we will play with multiple machines in the system"
   ]
  },
  {
   "cell_type": "code",
   "execution_count": 888,
   "metadata": {},
   "outputs": [
    {
     "data": {
      "text/plain": [
       "array([5.55555556, 5.55555556, 5.55555556, 5.        , 5.        ])"
      ]
     },
     "execution_count": 888,
     "metadata": {},
     "output_type": "execute_result"
    }
   ],
   "source": [
    "import numpy as np\n",
    "\n",
    "# Define the coefficient matrix A and the constants vector b\n",
    "A = np.array([\n",
    "    #A      B       C       D       E\n",
    "    [1,     0,      -1/10,  0,      0],\n",
    "    [-1,    1,      0,      0,      0],\n",
    "    [0,     -1,     1,      0,      0],\n",
    "    [0,     0,      -9/10,  1,      0],\n",
    "    [0,     0,      0,      -1,     1]\n",
    "])\n",
    "\n",
    "# Right-hand side constants vector (all zero in this case)\n",
    "b = np.array([5, 0, 0, 0, 0])\n",
    "\n",
    "# Solve the system using np.linalg.solve if it’s square and has a unique solution\n",
    "# If it does not have a unique solution, we can use np.linalg.lstsq to get a least-squares solution\n",
    "try:\n",
    "    lam = np.linalg.solve(A, b)\n",
    "except np.linalg.LinAlgError:\n",
    "    # If matrix A is singular, use least-squares solution\n",
    "    lam, residuals, rank, s = np.linalg.lstsq(A, b, rcond=None)\n",
    "\n",
    "# The flow rates are the following \n",
    "lam\n"
   ]
  },
  {
   "cell_type": "code",
   "execution_count": 889,
   "metadata": {},
   "outputs": [
    {
     "name": "stdout",
     "output_type": "stream",
     "text": [
      "  Step  Station    te  C_e^2  E[S]^2   var[S]   E[S^2]  lambda_inflow\n",
      "0    a        1  0.16    0.5  0.0256  0.01280  0.03840       5.555556\n",
      "1    b        2  0.13    1.2  0.0169  0.02028  0.03718       5.555556\n",
      "2    c        3  0.13    0.8  0.0169  0.01352  0.03042       5.555556\n",
      "3    d        2  0.18    1.1  0.0324  0.03564  0.06804       5.000000\n",
      "4    e        1  0.14    0.6  0.0196  0.01176  0.03136       5.000000\n"
     ]
    }
   ],
   "source": [
    "# Define the lambda inflow rates for each step\n",
    "lambda_inflow = [lam[0], lam[1], lam[2], lam[3], lam[4]]\n",
    "\n",
    "# Add the lambda inflow rates to the station_metrics dataframe\n",
    "process_metrics['lambda_inflow'] = lambda_inflow\n",
    "\n",
    "# Display the updated DataFrame\n",
    "print(process_metrics)"
   ]
  },
  {
   "cell_type": "markdown",
   "metadata": {},
   "source": [
    "Let's articulate this as the individual workstation flow rates"
   ]
  },
  {
   "cell_type": "code",
   "execution_count": 890,
   "metadata": {},
   "outputs": [
    {
     "data": {
      "text/plain": [
       "10.555555555555555"
      ]
     },
     "execution_count": 890,
     "metadata": {},
     "output_type": "execute_result"
    }
   ],
   "source": [
    "lam1=lam[1-1]+lam[5-1]\n",
    "lam1"
   ]
  },
  {
   "cell_type": "code",
   "execution_count": 891,
   "metadata": {},
   "outputs": [
    {
     "data": {
      "text/plain": [
       "10.555555555555555"
      ]
     },
     "execution_count": 891,
     "metadata": {},
     "output_type": "execute_result"
    }
   ],
   "source": [
    "lam2=lam[2-1]+lam[4-1]\n",
    "lam2"
   ]
  },
  {
   "cell_type": "code",
   "execution_count": 892,
   "metadata": {},
   "outputs": [
    {
     "data": {
      "text/plain": [
       "5.555555555555555"
      ]
     },
     "execution_count": 892,
     "metadata": {},
     "output_type": "execute_result"
    }
   ],
   "source": [
    "lam3=lam[3-1]\n",
    "lam3"
   ]
  },
  {
   "cell_type": "code",
   "execution_count": 893,
   "metadata": {},
   "outputs": [
    {
     "name": "stdout",
     "output_type": "stream",
     "text": [
      "   Station  lambda_inflow\n",
      "0        1      10.555556\n",
      "1        2      10.555556\n",
      "2        3       5.555556\n"
     ]
    }
   ],
   "source": [
    "# Create a new DataFrame with 'Station' and 'lambda_inflow' columns using lam1, lam2, and lam3\n",
    "station_metrics = pd.DataFrame({\n",
    "    'Station': [1, 2, 3],\n",
    "    'lambda_inflow': [lam1, lam2, lam3]\n",
    "})\n",
    "\n",
    "# Display the new DataFrame\n",
    "print(station_metrics)"
   ]
  },
  {
   "cell_type": "markdown",
   "metadata": {},
   "source": [
    "---\n",
    "\n",
    "Now let's get the utilization"
   ]
  },
  {
   "cell_type": "code",
   "execution_count": 894,
   "metadata": {},
   "outputs": [
    {
     "name": "stdout",
     "output_type": "stream",
     "text": [
      "   Station  lambda_inflow        te\n",
      "0        1      10.555556  0.150526\n",
      "1        2      10.555556  0.153684\n",
      "2        3       5.555556  0.130000\n"
     ]
    }
   ],
   "source": [
    "station_metrics['te'] = [lam[0]/(lam[0]+lam[4])*process_metrics['te'][0]+lam[4]/(lam[0]+lam[4])*process_metrics['te'][4],\n",
    "                         lam[1]/(lam[1]+lam[3])*process_metrics['te'][1]+lam[3]/(lam[1]+lam[3])*process_metrics['te'][3],\n",
    "                         process_metrics['te'][2]]\n",
    "\n",
    "# Display the updated DataFrame\n",
    "print(station_metrics)"
   ]
  },
  {
   "cell_type": "code",
   "execution_count": 895,
   "metadata": {},
   "outputs": [
    {
     "name": "stdout",
     "output_type": "stream",
     "text": [
      "   Station  lambda_inflow        te    E[S]^2\n",
      "0        1      10.555556  0.150526  0.022658\n",
      "1        2      10.555556  0.153684  0.023619\n",
      "2        3       5.555556  0.130000  0.016900\n"
     ]
    }
   ],
   "source": [
    "\n",
    "station_metrics['E[S]^2'] = station_metrics['te'] ** 2\n",
    "\n",
    "# Display the updated DataFrame\n",
    "print(station_metrics)"
   ]
  },
  {
   "cell_type": "code",
   "execution_count": 896,
   "metadata": {},
   "outputs": [
    {
     "name": "stdout",
     "output_type": "stream",
     "text": [
      "   Station  lambda_inflow        te    E[S]^2    E[S^2]\n",
      "0        1      10.555556  0.150526  0.022658  0.035065\n",
      "1        2      10.555556  0.153684  0.023619  0.051798\n",
      "2        3       5.555556  0.130000  0.016900  0.030420\n"
     ]
    }
   ],
   "source": [
    "\n",
    "station_metrics['E[S^2]'] = [lam[0]/(lam[0]+lam[4])*process_metrics['E[S^2]'][0]+lam[4]/(lam[0]+lam[4])*process_metrics['E[S^2]'][4],\n",
    "                             lam[1]/(lam[1]+lam[3])*process_metrics['E[S^2]'][1]+lam[3]/(lam[1]+lam[3])*process_metrics['E[S^2]'][3],\n",
    "                             process_metrics['E[S^2]'][2]]\n",
    "# Display the updated DataFrame\n",
    "print(station_metrics)"
   ]
  },
  {
   "cell_type": "code",
   "execution_count": 897,
   "metadata": {},
   "outputs": [
    {
     "name": "stdout",
     "output_type": "stream",
     "text": [
      "   Station  lambda_inflow        te    E[S]^2    E[S^2]    var(S)\n",
      "0        1      10.555556  0.150526  0.022658  0.035065  0.012407\n",
      "1        2      10.555556  0.153684  0.023619  0.051798  0.028179\n",
      "2        3       5.555556  0.130000  0.016900  0.030420  0.013520\n"
     ]
    }
   ],
   "source": [
    "station_metrics['var(S)'] = station_metrics['E[S^2]'] - station_metrics['E[S]^2']\n",
    "# Display the updated DataFrame\n",
    "print(station_metrics)"
   ]
  },
  {
   "cell_type": "code",
   "execution_count": 898,
   "metadata": {},
   "outputs": [
    {
     "name": "stdout",
     "output_type": "stream",
     "text": [
      "   Station  lambda_inflow        te    E[S]^2    E[S^2]    var(S)      Ce^2\n",
      "0        1      10.555556  0.150526  0.022658  0.035065  0.012407  0.547577\n",
      "1        2      10.555556  0.153684  0.023619  0.051798  0.028179  1.193076\n",
      "2        3       5.555556  0.130000  0.016900  0.030420  0.013520  0.800000\n"
     ]
    }
   ],
   "source": [
    "station_metrics['Ce^2'] = station_metrics['var(S)'] / station_metrics['te'] ** 2\n",
    "# Display the updated DataFrame\n",
    "print(station_metrics)"
   ]
  },
  {
   "cell_type": "code",
   "execution_count": 899,
   "metadata": {},
   "outputs": [
    {
     "name": "stdout",
     "output_type": "stream",
     "text": [
      "   Station  lambda_inflow        te    E[S]^2    E[S^2]    var(S)      Ce^2  m\n",
      "0        1      10.555556  0.150526  0.022658  0.035065  0.012407  0.547577  2\n",
      "1        2      10.555556  0.153684  0.023619  0.051798  0.028179  1.193076  2\n",
      "2        3       5.555556  0.130000  0.016900  0.030420  0.013520  0.800000  1\n"
     ]
    }
   ],
   "source": [
    "station_metrics['m'] = [2, 2, 1]\n",
    "# Display the updated DataFrame\n",
    "print(station_metrics)"
   ]
  },
  {
   "cell_type": "code",
   "execution_count": 900,
   "metadata": {},
   "outputs": [
    {
     "name": "stdout",
     "output_type": "stream",
     "text": [
      "   Station  lambda_inflow        te    E[S]^2    E[S^2]    var(S)      Ce^2  \\\n",
      "0        1      10.555556  0.150526  0.022658  0.035065  0.012407  0.547577   \n",
      "1        2      10.555556  0.153684  0.023619  0.051798  0.028179  1.193076   \n",
      "2        3       5.555556  0.130000  0.016900  0.030420  0.013520  0.800000   \n",
      "\n",
      "   m         u  \n",
      "0  2  0.794444  \n",
      "1  2  0.811111  \n",
      "2  1  0.722222  \n"
     ]
    }
   ],
   "source": [
    "# Calculate te^2 for each station\n",
    "station_metrics['u'] = station_metrics['lambda_inflow']*station_metrics['te'] / station_metrics['m'] \n",
    "# Display the updated DataFrame\n",
    "print(station_metrics)"
   ]
  },
  {
   "cell_type": "markdown",
   "metadata": {},
   "source": [
    "---\n",
    "\n",
    "Now let's get the Variance of the combined distributions for the purpose of calculating the SCV for each station's service time."
   ]
  },
  {
   "cell_type": "markdown",
   "metadata": {},
   "source": [
    "---\n",
    "\n",
    "Now let's find the CSV of the arrivals"
   ]
  },
  {
   "cell_type": "code",
   "execution_count": 901,
   "metadata": {},
   "outputs": [
    {
     "data": {
      "text/plain": [
       "0.5263157894736842"
      ]
     },
     "execution_count": 901,
     "metadata": {},
     "output_type": "execute_result"
    }
   ],
   "source": [
    "p12=lam[0]/(lam[0]+lam[4])\n",
    "p12"
   ]
  },
  {
   "cell_type": "code",
   "execution_count": 902,
   "metadata": {},
   "outputs": [
    {
     "data": {
      "text/plain": [
       "0.4736842105263158"
      ]
     },
     "execution_count": 902,
     "metadata": {},
     "output_type": "execute_result"
    }
   ],
   "source": [
    "p21=lam[4]/(lam[4]+lam[1])\n",
    "p21"
   ]
  },
  {
   "cell_type": "code",
   "execution_count": 903,
   "metadata": {},
   "outputs": [],
   "source": [
    "p31=.1\n",
    "p32=.9"
   ]
  },
  {
   "cell_type": "code",
   "execution_count": 904,
   "metadata": {},
   "outputs": [
    {
     "data": {
      "text/plain": [
       "0.5263157894736842"
      ]
     },
     "execution_count": 904,
     "metadata": {},
     "output_type": "execute_result"
    }
   ],
   "source": [
    "p23=lam[1]/(lam[1]+lam[4])\n",
    "p23"
   ]
  },
  {
   "cell_type": "code",
   "execution_count": 905,
   "metadata": {},
   "outputs": [],
   "source": [
    "from sympy import symbols, Eq, solve\n",
    "\n",
    "# Define symbols for the variables\n",
    "scv_a_1, scv_a_2, scv_a_3 = symbols('scv_a_1, scv_a_2, scv_a_3')"
   ]
  },
  {
   "cell_type": "markdown",
   "metadata": {},
   "source": [
    "$$C_a^2(1)$$"
   ]
  },
  {
   "cell_type": "code",
   "execution_count": 906,
   "metadata": {},
   "outputs": [],
   "source": [
    "p21=p21\n",
    "scv_e_2=2.087\n",
    "\n",
    "p31=0.1\n",
    "scv_e_3=1\n",
    "\n",
    "m2=m[2-1]\n",
    "m3=m[3-1]\n",
    "\n",
    "eq1 = Eq(scv_a_1, 5/lam1\n",
    "         +lam2*p21/lam1*(p21*(1+(1-station_metrics['u'][2-1]**2)*(scv_a_2-1)+(station_metrics['u'][2-1]**2)*(scv_e_2-1)/(m2**(1/2)))+1-p21)\n",
    "         +lam3*p31/lam1*(p31*(1+(1-station_metrics['u'][3-1]**2)*(scv_a_3-1)+(station_metrics['u'][3-1]**2)*(scv_e_3-1)/(m3**(1/2)))+1-p31)\n",
    "         )"
   ]
  },
  {
   "cell_type": "markdown",
   "metadata": {},
   "source": [
    "$$ C_a^2(2)$$"
   ]
  },
  {
   "cell_type": "code",
   "execution_count": 907,
   "metadata": {},
   "outputs": [],
   "source": [
    "p12=p12\n",
    "scv_e_2=2.087\n",
    "\n",
    "p32=0.9\n",
    "scv_e_3=1\n",
    "\n",
    "m2=m[2-1]\n",
    "m3=m[3-1]\n",
    "\n",
    "eq2 = Eq(scv_a_2,\n",
    "         lam1*p12/lam2*(p12*(1+(1-station_metrics['u'][2-1]**2)*(scv_a_2-1)+(station_metrics['u'][2-1]**2)*(scv_e_2-1)/(m2**(1/2)))+1-p12)\n",
    "         +lam3*p32/lam2*(p32*(1+(1-station_metrics['u'][3-1]**2)*(scv_a_3-1)+(station_metrics['u'][3-1]**2)*(scv_e_3-1)/(m3**(1/2)))+1-p32)\n",
    ")"
   ]
  },
  {
   "cell_type": "markdown",
   "metadata": {},
   "source": [
    "$$ C_a^2(3)$$"
   ]
  },
  {
   "cell_type": "code",
   "execution_count": 908,
   "metadata": {},
   "outputs": [],
   "source": [
    "p23=p23\n",
    "scv_e_3=1\n",
    "\n",
    "eq3 = Eq(scv_a_3,\n",
    "       lam2*p23/lam3*(p23*((1-station_metrics['u'][3-1]**2)*(scv_a_3)+(station_metrics['u'][3-1]**2)*(scv_e_3)))+1-p23)"
   ]
  },
  {
   "cell_type": "code",
   "execution_count": 909,
   "metadata": {},
   "outputs": [
    {
     "name": "stdout",
     "output_type": "stream",
     "text": [
      "Solution: {scv_a_1: 1.12534047727114, scv_a_2: 1.15474132996438, scv_a_3: 1.00000000000000}\n"
     ]
    }
   ],
   "source": [
    "# Solve the system of equations\n",
    "solution = solve((eq1, eq2, eq3), (scv_a_1, scv_a_2, scv_a_3))\n",
    "\n",
    "print(\"Solution:\", solution)\n",
    "scv_a_1 = solution[scv_a_1]\n",
    "scv_a_2 = solution[scv_a_2]\n",
    "scv_a_3 = solution[scv_a_3]"
   ]
  },
  {
   "cell_type": "markdown",
   "metadata": {},
   "source": [
    "---\n",
    "\n",
    "WIP, CT, and TH of System"
   ]
  },
  {
   "cell_type": "code",
   "execution_count": null,
   "metadata": {},
   "outputs": [
    {
     "data": {
      "text/latex": [
       "$\\displaystyle 0.317854833554569$"
      ],
      "text/plain": [
       "0.317854833554569"
      ]
     },
     "execution_count": 910,
     "metadata": {},
     "output_type": "execute_result"
    }
   ],
   "source": [
    "scv_e_1=0.1505213\n",
    "m1=2\n",
    "CT1=(scv_a_1+scv_e_1)/2*(station_metrics['u'][1-1]**((2*(m1+1))**(1/2)-1))/((1-station_metrics['u'][1-1])*m1)*station_metrics['te'][1-1]+station_metrics['te'][1-1]\n",
    "CT1"
   ]
  },
  {
   "cell_type": "code",
   "execution_count": 911,
   "metadata": {},
   "outputs": [
    {
     "data": {
      "text/latex": [
       "$\\displaystyle 0.640488174671278$"
      ],
      "text/plain": [
       "0.640488174671278"
      ]
     },
     "execution_count": 911,
     "metadata": {},
     "output_type": "execute_result"
    }
   ],
   "source": [
    "CT2=(scv_a_2+scv_e_2)/2*(u2**((2*(m2+1))**(1/2)-1))/((1-u2)*m2)*te2+te2\n",
    "CT2"
   ]
  },
  {
   "cell_type": "code",
   "execution_count": 912,
   "metadata": {},
   "outputs": [
    {
     "data": {
      "text/latex": [
       "$\\displaystyle 0.468$"
      ],
      "text/plain": [
       "0.468000000000000"
      ]
     },
     "execution_count": 912,
     "metadata": {},
     "output_type": "execute_result"
    }
   ],
   "source": [
    "CT3=(scv_a_3+scv_e_3)/2*(u3**((2*(m3+1))**(1/2)-1))/((1-u3)*m3)*te3+te3\n",
    "CT3"
   ]
  },
  {
   "cell_type": "code",
   "execution_count": 913,
   "metadata": {},
   "outputs": [
    {
     "data": {
      "text/latex": [
       "$\\displaystyle 3.35513435418712$"
      ],
      "text/plain": [
       "3.35513435418712"
      ]
     },
     "execution_count": 913,
     "metadata": {},
     "output_type": "execute_result"
    }
   ],
   "source": [
    "WIP1=lam1*CT1\n",
    "WIP1"
   ]
  },
  {
   "cell_type": "code",
   "execution_count": 914,
   "metadata": {},
   "outputs": [
    {
     "data": {
      "text/latex": [
       "$\\displaystyle 6.76070851041904$"
      ],
      "text/plain": [
       "6.76070851041904"
      ]
     },
     "execution_count": 914,
     "metadata": {},
     "output_type": "execute_result"
    }
   ],
   "source": [
    "WIP2=lam2*CT2\n",
    "WIP2"
   ]
  },
  {
   "cell_type": "code",
   "execution_count": 915,
   "metadata": {},
   "outputs": [
    {
     "data": {
      "text/latex": [
       "$\\displaystyle 2.6$"
      ],
      "text/plain": [
       "2.60000000000000"
      ]
     },
     "execution_count": 915,
     "metadata": {},
     "output_type": "execute_result"
    }
   ],
   "source": [
    "WIP3=lam3*CT3\n",
    "WIP3"
   ]
  },
  {
   "cell_type": "code",
   "execution_count": 916,
   "metadata": {},
   "outputs": [
    {
     "data": {
      "text/latex": [
       "$\\displaystyle 12.7158428646062$"
      ],
      "text/plain": [
       "12.7158428646062"
      ]
     },
     "execution_count": 916,
     "metadata": {},
     "output_type": "execute_result"
    }
   ],
   "source": [
    "WIP=WIP1+WIP2+WIP3\n",
    "WIP"
   ]
  },
  {
   "cell_type": "code",
   "execution_count": 917,
   "metadata": {},
   "outputs": [
    {
     "data": {
      "text/latex": [
       "$\\displaystyle 2.54316857292123$"
      ],
      "text/plain": [
       "2.54316857292123"
      ]
     },
     "execution_count": 917,
     "metadata": {},
     "output_type": "execute_result"
    }
   ],
   "source": [
    "CT=WIP/5\n",
    "CT"
   ]
  },
  {
   "cell_type": "code",
   "execution_count": null,
   "metadata": {},
   "outputs": [],
   "source": []
  }
 ],
 "metadata": {
  "kernelspec": {
   "display_name": "Python 3",
   "language": "python",
   "name": "python3"
  },
  "language_info": {
   "codemirror_mode": {
    "name": "ipython",
    "version": 3
   },
   "file_extension": ".py",
   "mimetype": "text/x-python",
   "name": "python",
   "nbconvert_exporter": "python",
   "pygments_lexer": "ipython3",
   "version": "3.9.6"
  }
 },
 "nbformat": 4,
 "nbformat_minor": 2
}
